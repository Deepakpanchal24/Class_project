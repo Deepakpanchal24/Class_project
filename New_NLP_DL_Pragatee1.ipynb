{
  "nbformat": 4,
  "nbformat_minor": 0,
  "metadata": {
    "colab": {
      "provenance": [],
      "mount_file_id": "1GA3Yj75u8JtEp3qDU4eY3sdXflEVSZMP",
      "authorship_tag": "ABX9TyMVs09VA+KIaDjOJW187Gik",
      "include_colab_link": true
    },
    "kernelspec": {
      "name": "python3",
      "display_name": "Python 3"
    },
    "language_info": {
      "name": "python"
    }
  },
  "cells": [
    {
      "cell_type": "markdown",
      "metadata": {
        "id": "view-in-github",
        "colab_type": "text"
      },
      "source": [
        "<a href=\"https://colab.research.google.com/github/Deepakpanchal24/Class_project/blob/main/New_NLP_DL_Pragatee1.ipynb\" target=\"_parent\"><img src=\"https://colab.research.google.com/assets/colab-badge.svg\" alt=\"Open In Colab\"/></a>"
      ]
    },
    {
      "cell_type": "code",
      "source": [
        "pip install pandas numpy tensorflow transformers scikit-learn gradio #install required library\n",
        "\n",
        "\n",
        "import pandas as pd\n",
        "from sentence_transformers import SentenceTransformer\n",
        "from sklearn.metrics.pairwise import cosine_similarity\n",
        "import gradio as gr\n",
        "import os\n",
        "from datetime import datetime\n",
        "\n",
        "# Load dataset\n",
        "df = pd.read_csv(\"/content/drive/MyDrive/Medical_Project/medimind_india_raw_data.csv\")\n",
        "df.columns = df.columns.str.strip().str.lower().str.replace(\" \", \"\")\n",
        "df = df.dropna(subset=[\"symptoms\", \"differential_diagnoses\"])\n",
        "df[\"combined_input\"] = (\n",
        "    df[\"symptoms\"].fillna('') + \" \" +\n",
        "    df[\"medical_history\"].fillna('') + \" \" +\n",
        "    df[\"test_results\"].fillna('')\n",
        ")\n",
        "\n",
        "# Load model\n",
        "model = SentenceTransformer(\"all-MiniLM-L6-v2\")\n",
        "case_embeddings = model.encode(df[\"combined_input\"].tolist(), convert_to_tensor=True, device='cpu')\n",
        "\n",
        "# Setup history file\n",
        "history_file = \"diagnosis_history.csv\"\n",
        "if not os.path.exists(history_file):\n",
        "    pd.DataFrame(columns=[\n",
        "        \"date\", \"patient_name\", \"symptoms\", \"medical_history\", \"test_results\",\n",
        "        \"age\", \"gender\", \"region\", \"diagnosis\", \"medications\",\n",
        "        \"treatment_plan\", \"follow_ups\", \"match_score\"\n",
        "    ]).to_csv(history_file, index=False)\n",
        "\n",
        "SIMILARITY_THRESHOLD = 0.6\n",
        "\n",
        "# Core function\n",
        "def get_diagnosis_filtered(patient_name, symptoms, history, test_results, age, gender, region):\n",
        "    # Auto date\n",
        "    date_today = datetime.today().strftime('%Y-%m-%d')\n",
        "\n",
        "    # Input checks\n",
        "    if not patient_name.strip() or not symptoms.strip():\n",
        "        return \"Please enter at least Patient Name and Symptoms.\"\n",
        "\n",
        "    user_input = symptoms + \" \" + history + \" \" + test_results\n",
        "    user_embedding = model.encode([user_input], convert_to_tensor=True, device='cpu')\n",
        "\n",
        "    # Apply filters\n",
        "    df_filtered = df.copy()\n",
        "    try:\n",
        "        if age:\n",
        "            age = int(age)\n",
        "            df_filtered = df_filtered[(df_filtered['age'].astype(int) >= age - 5) &\n",
        "                                      (df_filtered['age'].astype(int) <= age + 5)]\n",
        "    except:\n",
        "        pass\n",
        "\n",
        "    if gender:\n",
        "        gender = gender.strip().lower()\n",
        "        df_filtered = df_filtered[df_filtered['gender'].str.strip().str.lower() == gender]\n",
        "    if region:\n",
        "        region = region.strip().lower()\n",
        "        df_filtered = df_filtered[df_filtered['region'].str.strip().str.lower() == region]\n",
        "\n",
        "    # Default response\n",
        "    diagnosis_info = {\n",
        "        \"diagnosis\": \"No matching case\",\n",
        "        \"medications\": \"N/A\",\n",
        "        \"treatment_plan\": \"N/A\",\n",
        "        \"follow_ups\": \"N/A\",\n",
        "        \"match_score\": 0.0\n",
        "    }\n",
        "\n",
        "    if not df_filtered.empty:\n",
        "        filtered_embeddings = model.encode(df_filtered[\"combined_input\"].tolist(), convert_to_tensor=True, device='cpu')\n",
        "        similarity_scores = cosine_similarity(user_embedding.cpu(), filtered_embeddings.cpu())[0]\n",
        "        best_score = similarity_scores.max()\n",
        "        best_idx = similarity_scores.argmax()\n",
        "\n",
        "        if best_score >= SIMILARITY_THRESHOLD:\n",
        "            match = df_filtered.iloc[best_idx]\n",
        "            diagnosis_info = {\n",
        "                \"diagnosis\": match['differential_diagnoses'],\n",
        "                \"medications\": match['medications'],\n",
        "                \"treatment_plan\": match['treatment_plan'],\n",
        "                \"follow_ups\": match['follow_ups'],\n",
        "                \"match_score\": float(best_score)\n",
        "            }\n",
        "\n",
        "            result = f\"\"\"\n",
        "### Differential Diagnoses\n",
        "- {diagnosis_info['diagnosis']}\n",
        "\n",
        "### Medications\n",
        "- {diagnosis_info['medications']}\n",
        "\n",
        "### Treatment Plan\n",
        "- {diagnosis_info['treatment_plan']}\n",
        "\n",
        "### Follow Ups\n",
        "- {diagnosis_info['follow_ups']}\n",
        "\"\"\"\n",
        "        else:\n",
        "            result = \"No sufficiently similar case found. Try providing more detail.\"\n",
        "    else:\n",
        "        result = \"No matching cases found for the given filters.\"\n",
        "\n",
        "    # Log history\n",
        "    history_row = {\n",
        "        \"date\": date_today,\n",
        "        \"patient_name\": patient_name,\n",
        "        \"symptoms\": symptoms,\n",
        "        \"medical_history\": history,\n",
        "        \"test_results\": test_results,\n",
        "        \"age\": age,\n",
        "        \"gender\": gender,\n",
        "        \"region\": region,\n",
        "        \"diagnosis\": diagnosis_info[\"diagnosis\"],\n",
        "        \"medications\": diagnosis_info[\"medications\"],\n",
        "        \"treatment_plan\": diagnosis_info[\"treatment_plan\"],\n",
        "        \"follow_ups\": diagnosis_info[\"follow_ups\"],\n",
        "        \"match_score\": diagnosis_info[\"match_score\"]\n",
        "    }\n",
        "\n",
        "    pd.DataFrame([history_row]).to_csv(history_file, mode='a', header=False, index=False)\n",
        "    return result\n",
        "\n",
        "# Gradio UI\n",
        "demo = gr.Interface(\n",
        "    fn=get_diagnosis_filtered,\n",
        "    inputs=[\n",
        "        gr.Textbox(label=\"Patient Name\"),\n",
        "        gr.Textbox(label=\"Symptoms\"),\n",
        "        gr.Textbox(label=\"Medical History\"),\n",
        "        gr.Textbox(label=\"Test Results\"),\n",
        "        gr.Textbox(label=\"Age (Optional)\"),\n",
        "        gr.Textbox(label=\"Gender (Optional)\"),\n",
        "        gr.Textbox(label=\"Region (Optional)\")\n",
        "    ],\n",
        "    outputs=gr.Markdown(label=\"Diagnosis & Treatment\"),\n",
        "    title=\"MediMind Diagnostic Chatbot\",\n",
        "    description=\"AI tool for doctors to triage and log patient visits automatically.\"\n",
        ")\n",
        "\n",
        "demo.launch()\n"
      ],
      "metadata": {
        "colab": {
          "base_uri": "https://localhost:8080/",
          "height": 650
        },
        "id": "FQUjmAKq0yau",
        "outputId": "37c5b7c2-4d66-489a-986e-b4d0f6235bb8"
      },
      "execution_count": 3,
      "outputs": [
        {
          "output_type": "stream",
          "name": "stdout",
          "text": [
            "It looks like you are running Gradio on a hosted a Jupyter notebook. For the Gradio app to work, sharing must be enabled. Automatically setting `share=True` (you can turn this off by setting `share=False` in `launch()` explicitly).\n",
            "\n",
            "Colab notebook detected. To show errors in colab notebook, set debug=True in launch()\n",
            "* Running on public URL: https://084ad7859f8f51fe1a.gradio.live\n",
            "\n",
            "This share link expires in 1 week. For free permanent hosting and GPU upgrades, run `gradio deploy` from the terminal in the working directory to deploy to Hugging Face Spaces (https://huggingface.co/spaces)\n"
          ]
        },
        {
          "output_type": "display_data",
          "data": {
            "text/plain": [
              "<IPython.core.display.HTML object>"
            ],
            "text/html": [
              "<div><iframe src=\"https://084ad7859f8f51fe1a.gradio.live\" width=\"100%\" height=\"500\" allow=\"autoplay; camera; microphone; clipboard-read; clipboard-write;\" frameborder=\"0\" allowfullscreen></iframe></div>"
            ]
          },
          "metadata": {}
        },
        {
          "output_type": "execute_result",
          "data": {
            "text/plain": []
          },
          "metadata": {},
          "execution_count": 3
        }
      ]
    }
  ]
}