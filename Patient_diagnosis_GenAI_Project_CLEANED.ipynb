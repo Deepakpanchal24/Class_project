{
 "cells": [
  {
   "cell_type": "code",
   "execution_count": null,
   "metadata": {
    "colab": {
     "base_uri": "https://localhost:8080/"
    },
    "id": "PR-jMRWSztRE",
    "outputId": "0aa9fc04-d798-4ba9-a5e4-6bf4f3e55b53"
   },
   "outputs": [
    {
     "name": "stdout",
     "output_type": "stream",
     "text": [
      "\u001b[2K   \u001b[90m━━━━━━━━━━━━━━━━━━━━━━━━━━━━━━━━━━━━━━━━\u001b[0m \u001b[32m363.4/363.4 MB\u001b[0m \u001b[31m3.5 MB/s\u001b[0m eta \u001b[36m0:00:00\u001b[0m\n",
      "\u001b[2K   \u001b[90m━━━━━━━━━━━━━━━━━━━━━━━━━━━━━━━━━━━━━━━━\u001b[0m \u001b[32m13.8/13.8 MB\u001b[0m \u001b[31m42.4 MB/s\u001b[0m eta \u001b[36m0:00:00\u001b[0m\n",
      "\u001b[2K   \u001b[90m━━━━━━━━━━━━━━━━━━━━━━━━━━━━━━━━━━━━━━━━\u001b[0m \u001b[32m24.6/24.6 MB\u001b[0m \u001b[31m28.2 MB/s\u001b[0m eta \u001b[36m0:00:00\u001b[0m\n",
      "\u001b[2K   \u001b[90m━━━━━━━━━━━━━━━━━━━━━━━━━━━━━━━━━━━━━━━━\u001b[0m \u001b[32m883.7/883.7 kB\u001b[0m \u001b[31m36.7 MB/s\u001b[0m eta \u001b[36m0:00:00\u001b[0m\n",
      "\u001b[2K   \u001b[90m━━━━━━━━━━━━━━━━━━━━━━━━━━━━━━━━━━━━━━━━\u001b[0m \u001b[32m664.8/664.8 MB\u001b[0m \u001b[31m2.0 MB/s\u001b[0m eta \u001b[36m0:00:00\u001b[0m\n",
      "\u001b[2K   \u001b[90m━━━━━━━━━━━━━━━━━━━━━━━━━━━━━━━━━━━━━━━━\u001b[0m \u001b[32m211.5/211.5 MB\u001b[0m \u001b[31m5.6 MB/s\u001b[0m eta \u001b[36m0:00:00\u001b[0m\n",
      "\u001b[2K   \u001b[90m━━━━━━━━━━━━━━━━━━━━━━━━━━━━━━━━━━━━━━━━\u001b[0m \u001b[32m56.3/56.3 MB\u001b[0m \u001b[31m17.5 MB/s\u001b[0m eta \u001b[36m0:00:00\u001b[0m\n",
      "\u001b[2K   \u001b[90m━━━━━━━━━━━━━━━━━━━━━━━━━━━━━━━━━━━━━━━━\u001b[0m \u001b[32m127.9/127.9 MB\u001b[0m \u001b[31m7.5 MB/s\u001b[0m eta \u001b[36m0:00:00\u001b[0m\n",
      "\u001b[2K   \u001b[90m━━━━━━━━━━━━━━━━━━━━━━━━━━━━━━━━━━━━━━━━\u001b[0m \u001b[32m207.5/207.5 MB\u001b[0m \u001b[31m5.6 MB/s\u001b[0m eta \u001b[36m0:00:00\u001b[0m\n",
      "\u001b[2K   \u001b[90m━━━━━━━━━━━━━━━━━━━━━━━━━━━━━━━━━━━━━━━━\u001b[0m \u001b[32m21.1/21.1 MB\u001b[0m \u001b[31m102.8 MB/s\u001b[0m eta \u001b[36m0:00:00\u001b[0m\n",
      "\u001b[?25h"
     ]
    }
   ],
   "source": [
    "!pip install transformers accelerate safetensors -q\n",
    "from transformers import AutoTokenizer, AutoModelForCausalLM\n",
    "import torch"
   ]
  },
  {
   "cell_type": "code",
   "execution_count": null,
   "metadata": {
    "colab": {
     "base_uri": "https://localhost:8080/",
     "height": 632,
     "referenced_widgets": [
      "d78b25a04dc945d19f648146d4f70ef6",
      "33a6c0fdb11a4a89b2b7fce7c3d82e69",
      "61c28b8cf4d249069b2b629152d794de",
      "15c74afd42ee4651a3e6fad741362cc4",
      "ff29841872ed4dab952963beaaa52822",
      "05089dbfbd6e412291c57287ce1e93fc",
      "dd88882d046846a5990f1f14aed76a88",
      "ca2e006530cb458fa826a1725e02eeb5",
      "ad386ba2dc1643d0b2f8c6f04291d96f",
      "96f4ac0f9c14436fb9faad7708100bf2",
      "c998bb099d2c4c1e92b11801bb082d2a",
      "703e2318463c4f29b156036fcc267c1a",
      "91c9b8ef3f704237839944224d4201fc",
      "96df45e6d56141d18e4bfdf6369b0c7e",
      "6254e8d8daba4aadb04d305e03019097",
      "d14092fa996746f38ef604386196d27f",
      "4b74550092cc4b17ba4c123e6e8c2d72",
      "2b7138a04f794c2eba271cff641fc21c",
      "9ced49c61c7a4f5aacec37082c1e2a57",
      "96fe4aba00aa48f6b0a6e6d1c33a1730",
      "508511f5ad4a419aacb7a13db5d94ae0",
      "04d4fe23e41141b2a6fb670072a9ba6f",
      "c279e910b2a74bd585f856f9ca1241ba",
      "2d6b8f2ac0b449cda8309fc19d9b1d72",
      "8b80943f447348e4a64576642db9c837",
      "42b8dd4a1e2f4fd38cff018c75a4e4e9",
      "4e890861e0a047498673287e450e1fe7",
      "7cdba7926bca4eddaf0290cb5caa3b93",
      "b541f1798daf46e4b260235f041fb64a",
      "258ea61a280642d79c27bb7a456a9c22",
      "2fc09b5a8ea24e599f426a2d08c63635",
      "f39dbdeda9eb4b1bba016f190f664d13",
      "d24c1dbc4f494817939ff8b6e0e36fbd",
      "fbf88453d28443f1a6f35b325d96e401",
      "b302b04f7d07405186e3d28b961dbed0",
      "047cbdca9d9942e4ae53062de1dab51a",
      "ba99f03cbfd343239a3bb1920c8f6c1f",
      "d9b0d4c0db8248ac971d714454cc495a",
      "630189281e4341fd97d2f8966cb912f9",
      "79201888eef148d9a0cc96ad242c919d",
      "befbfe6732b841a6a576658da08f7b7c",
      "dfda89048a23487abe90e520c5396f8c",
      "539079c7ef164b7ba22e4d086f6c3ab5",
      "15b05e71e3324e2496ba3e9bc147e7ad",
      "e227fad252a24cafaf2c137bc351f857",
      "5478318eedd247d1836e4673ac2bcb6e",
      "1c20990303684f798107313d2ff81766",
      "a65950d097854c18ba9eb1f84d34c86e",
      "1d5142f4a76641a7a4da471e6ef171be",
      "7c7c46de3ef24f0583d710970cb91eae",
      "73ea384b9d1d47788bbb37d2b0300b48",
      "db7644d7d0d64b40ba77569829ec33cd",
      "f98b7129fca4456a8cb4e1509bae350e",
      "cb94315ef69e47bb84f42a1de4c2b140",
      "41a7d0bf645e41d39a6b1b1836259c49",
      "924a348ee7e749bab242faab3a55c5a1",
      "4396a9bd67ab488eb5a887d4953ce715",
      "e750c7f748d34d2599f7b4d8fa35e826",
      "f4fb58fb110044c48c1a4d798d6187d8",
      "48cea4a5d6194d97992ed76b23a13e41",
      "d1533299a092464b88d1ecc50b19558e",
      "090f00eed18d4492a9634a610992f1dc",
      "82a23d3d5f3b4250913afacbf7cda6ad",
      "c107f168d2b94fcf90e3a75a4ae75d10",
      "897d99cbe9814db8a890ff3e39d30316",
      "71fcc3c3b3aa44b6827d9f9b35701f1e",
      "80f7f9722b024ded8dad92ecd7c311e6",
      "d7aa4357fb1e4fe4a12033854d3dc254",
      "bd57fa97768246e8baa1ca1c9add93ff",
      "d713393bd00e403fb3695fe7e38a0f85",
      "53ce1e5faad846f9a784f26273ead339",
      "aa677153a6554670a62b2cb5813d8fd3",
      "e4baca914f7845648ea6d8fe195b9a03",
      "218be4bac67347b489d2a048a5ddf7dd",
      "7a7bf818cdf14b1f89ba837564d08394",
      "11a5207142b74e4f9b583185f585755d",
      "44db47b851774c7485a1e7490e2d6a5d",
      "2fd080e2c4a340638d6f6da6008b8a29",
      "464084c8f5ba491792b361c5a62b5573",
      "7a74f2593c3e4aa89c28c5d17ca2641b",
      "897d7eec5f6b4739a58611ff3c2963f8",
      "c3871d973cfb4ec9ad70d41ee7229502",
      "5b149e4672214cccb7f3e6a62255b5a7",
      "b34da908090849d0a0928439ab8a3150",
      "c380e8ae920b4446bde7a6bf899c2c87",
      "99c39e93c25146c2b34d88adcd24bc54",
      "7bc0c24b95ba47888f67a94c2f5f45bc",
      "e6927e6361894446866a7d143e35b34d",
      "036fa597e6ea4d6e92244f88a062b544",
      "790df59c82cb4885aadf0326c292cf93",
      "1cc1fa9e0db74ebb990f06cea2d7b5e0",
      "55da98e3cd18455da362d0c23e0d1633",
      "23172d88b4014814ab6ea114952a670f",
      "499c5e25f406410689530ed2f1e16639",
      "26f77e7afb7f40d987ccb9e98e99eb58",
      "85caaaf8afdd4fafbdb1814fdfc822ae",
      "aa86f8eea0224730bc0c4692b13e9647",
      "2c00c87070614acc945a3d28eadb7962",
      "3c72ddd041b54969bebfe51ee84be87a",
      "cd35ba08fff947de83063dee82e32cc3",
      "e94e39fe79c24183b9ff21a4c78d9a8d",
      "58a6faaadf424989b9bf1a856067f0c9",
      "17f5e605c2fb4fd9bec4a10164e8211d",
      "82ed4034efa241bd88b36510564cf47f",
      "b52ce4580de4406eaf0dca2185bde565",
      "7ecc8794966241e990eaf77606e09150",
      "1e4e5bf71b524107804963a3f474f86d",
      "0388833e1361447b8c7c96b1d4d43a3d",
      "73d4e5cfbea54cb4aca1ceeff89e5bfb",
      "842f07bff25549039a1b4bf7ee039b35",
      "9eb80a46c05a41ae9037c40202cd233c",
      "641709107fc744208a01119dfc67eba9",
      "7d94d562110e4b1e84d8d04aec1dc745",
      "7c34d10d12cb456091bc3e85be47f897",
      "035107ba0d3a46f7b47e61cadbbc75cf",
      "aea0aaca1de54713817af84ffd7555c1",
      "3af15da57b364032805c89aa235b30ec",
      "d57517f5677a4272af6e408f5844c26e",
      "f6e40f9d5e8a4e6b83eb61290264099d",
      "87f5f66da3c74d70b74afb53326b57d2",
      "182bf88795bf4434a91b6a6ddd7f490c"
     ]
    },
    "id": "Rsg_O8cn1_wg",
    "outputId": "b8f3904b-d8a5-4ae9-9f9e-26ead226d690"
   },
   "outputs": [
    {
     "name": "stderr",
     "output_type": "stream",
     "text": [
      "/usr/local/lib/python3.11/dist-packages/huggingface_hub/utils/_auth.py:94: UserWarning: \n",
      "The secret `HF_TOKEN` does not exist in your Colab secrets.\n",
      "To authenticate with the Hugging Face Hub, create a token in your settings tab (https://huggingface.co/settings/tokens), set it as secret in your Google Colab and restart your session.\n",
      "You will be able to reuse this secret in all of your notebooks.\n",
      "Please note that authentication is recommended but still optional to access public models or datasets.\n",
      "  warnings.warn(\n"
     ]
    },
    {
     "data": {
      "application/vnd.jupyter.widget-view+json": {
       "model_id": "d78b25a04dc945d19f648146d4f70ef6",
       "version_major": 2,
       "version_minor": 0
      },
      "text/plain": [
       "tokenizer_config.json:   0%|          | 0.00/695 [00:00<?, ?B/s]"
      ]
     },
     "metadata": {},
     "output_type": "display_data"
    },
    {
     "data": {
      "application/vnd.jupyter.widget-view+json": {
       "model_id": "703e2318463c4f29b156036fcc267c1a",
       "version_major": 2,
       "version_minor": 0
      },
      "text/plain": [
       "tokenizer.json:   0%|          | 0.00/1.84M [00:00<?, ?B/s]"
      ]
     },
     "metadata": {},
     "output_type": "display_data"
    },
    {
     "data": {
      "application/vnd.jupyter.widget-view+json": {
       "model_id": "c279e910b2a74bd585f856f9ca1241ba",
       "version_major": 2,
       "version_minor": 0
      },
      "text/plain": [
       "special_tokens_map.json:   0%|          | 0.00/434 [00:00<?, ?B/s]"
      ]
     },
     "metadata": {},
     "output_type": "display_data"
    },
    {
     "data": {
      "application/vnd.jupyter.widget-view+json": {
       "model_id": "fbf88453d28443f1a6f35b325d96e401",
       "version_major": 2,
       "version_minor": 0
      },
      "text/plain": [
       "config.json:   0%|          | 0.00/632 [00:00<?, ?B/s]"
      ]
     },
     "metadata": {},
     "output_type": "display_data"
    },
    {
     "data": {
      "application/vnd.jupyter.widget-view+json": {
       "model_id": "e227fad252a24cafaf2c137bc351f857",
       "version_major": 2,
       "version_minor": 0
      },
      "text/plain": [
       "pytorch_model.bin.index.json:   0%|          | 0.00/26.8k [00:00<?, ?B/s]"
      ]
     },
     "metadata": {},
     "output_type": "display_data"
    },
    {
     "data": {
      "application/vnd.jupyter.widget-view+json": {
       "model_id": "924a348ee7e749bab242faab3a55c5a1",
       "version_major": 2,
       "version_minor": 0
      },
      "text/plain": [
       "Fetching 2 files:   0%|          | 0/2 [00:00<?, ?it/s]"
      ]
     },
     "metadata": {},
     "output_type": "display_data"
    },
    {
     "data": {
      "application/vnd.jupyter.widget-view+json": {
       "model_id": "80f7f9722b024ded8dad92ecd7c311e6",
       "version_major": 2,
       "version_minor": 0
      },
      "text/plain": [
       "pytorch_model-00001-of-00002.bin:   0%|          | 0.00/9.98G [00:00<?, ?B/s]"
      ]
     },
     "metadata": {},
     "output_type": "display_data"
    },
    {
     "data": {
      "application/vnd.jupyter.widget-view+json": {
       "model_id": "2fd080e2c4a340638d6f6da6008b8a29",
       "version_major": 2,
       "version_minor": 0
      },
      "text/plain": [
       "pytorch_model-00002-of-00002.bin:   0%|          | 0.00/3.50G [00:00<?, ?B/s]"
      ]
     },
     "metadata": {},
     "output_type": "display_data"
    },
    {
     "data": {
      "application/vnd.jupyter.widget-view+json": {
       "model_id": "036fa597e6ea4d6e92244f88a062b544",
       "version_major": 2,
       "version_minor": 0
      },
      "text/plain": [
       "model.safetensors.index.json:   0%|          | 0.00/28.1k [00:00<?, ?B/s]"
      ]
     },
     "metadata": {},
     "output_type": "display_data"
    },
    {
     "data": {
      "application/vnd.jupyter.widget-view+json": {
       "model_id": "cd35ba08fff947de83063dee82e32cc3",
       "version_major": 2,
       "version_minor": 0
      },
      "text/plain": [
       "Loading checkpoint shards:   0%|          | 0/2 [00:00<?, ?it/s]"
      ]
     },
     "metadata": {},
     "output_type": "display_data"
    },
    {
     "data": {
      "application/vnd.jupyter.widget-view+json": {
       "model_id": "9eb80a46c05a41ae9037c40202cd233c",
       "version_major": 2,
       "version_minor": 0
      },
      "text/plain": [
       "generation_config.json:   0%|          | 0.00/174 [00:00<?, ?B/s]"
      ]
     },
     "metadata": {},
     "output_type": "display_data"
    },
    {
     "name": "stderr",
     "output_type": "stream",
     "text": [
      "/usr/local/lib/python3.11/dist-packages/transformers/generation/configuration_utils.py:631: UserWarning: `do_sample` is set to `False`. However, `temperature` is set to `0.9` -- this flag is only used in sample-based generation modes. You should set `do_sample=True` or unset `temperature`. This was detected when initializing the generation config instance, which means the corresponding file may hold incorrect parameterization and should be fixed.\n",
      "  warnings.warn(\n",
      "/usr/local/lib/python3.11/dist-packages/transformers/generation/configuration_utils.py:636: UserWarning: `do_sample` is set to `False`. However, `top_p` is set to `0.6` -- this flag is only used in sample-based generation modes. You should set `do_sample=True` or unset `top_p`. This was detected when initializing the generation config instance, which means the corresponding file may hold incorrect parameterization and should be fixed.\n",
      "  warnings.warn(\n",
      "/usr/local/lib/python3.11/dist-packages/transformers/generation/configuration_utils.py:631: UserWarning: `do_sample` is set to `False`. However, `temperature` is set to `0.9` -- this flag is only used in sample-based generation modes. You should set `do_sample=True` or unset `temperature`.\n",
      "  warnings.warn(\n",
      "/usr/local/lib/python3.11/dist-packages/transformers/generation/configuration_utils.py:636: UserWarning: `do_sample` is set to `False`. However, `top_p` is set to `0.6` -- this flag is only used in sample-based generation modes. You should set `do_sample=True` or unset `top_p`.\n",
      "  warnings.warn(\n"
     ]
    }
   ],
   "source": [
    "model_id = \"cxllin/Llama2-7b-med-v1\"\n",
    "tokenizer = AutoTokenizer.from_pretrained(model_id)\n",
    "model = AutoModelForCausalLM.from_pretrained(model_id,torch_dtype=torch.float16,device_map=\"auto\",offload_folder=\"offload_dir\",trust_remote_code=True)\n"
   ]
  },
  {
   "cell_type": "code",
   "execution_count": null,
   "metadata": {
    "id": "xSYJeQHJz_G9"
   },
   "outputs": [],
   "source": [
    "#Lets write all the user inputs"
   ]
  },
  {
   "cell_type": "code",
   "execution_count": null,
   "metadata": {
    "id": "4kMECacvb6jr"
   },
   "outputs": [],
   "source": [
    "def get_user_inputs():\n",
    "  print(\"Enter the Patient Details:\\n\")\n",
    "  patient_name = input(\"enter patient name  : \")\n",
    "  patient_weight = input(\"Enter patient weight in kg : \")\n",
    "  patient_age = input(\"Enter patient Age : \")\n",
    "  symptoms = input(\"1. Enter Symptoms with comma seperation : \")\n",
    "  medical_history = input(\"2. medical history (e.g.,smoker,drinker,have diabetes, etc.,) : \")\n",
    "  medical_report = input(\"3. Medical report data (e.g., CRP=10, troponin=0.2, Hb=xyz, etc.,) : \")\n",
    "  user_query = input(\"4. What help you need? (e.g., what disease is it can be? should i visit hospital? etc.,) : \")\n",
    "  return  patient_name,patient_weight,patient_age, symptoms, medical_history, medical_report, user_query"
   ]
  },
  {
   "cell_type": "code",
   "execution_count": null,
   "metadata": {
    "id": "KgjNGZ2SiRXn"
   },
   "outputs": [],
   "source": [
    "#Lets write the prompt"
   ]
  },
  {
   "cell_type": "code",
   "execution_count": null,
   "metadata": {
    "id": "e1M2ltFv3iBB"
   },
   "outputs": [],
   "source": [
    "def build_medical_prompt(patient_name,patient_weight,patient_age,symptoms,medical_history,medical_report,user_query):\n",
    "\n",
    "\n",
    "  prompt = (\n",
    "      f\"Patient name:{patient_name}\\n\"\n",
    "      f\"Patient Weight: {patient_weight}\\n\"\n",
    "      f\"patient Age: {patient_age}\\n\"\n",
    "      f\"Patient Symptoms: {symptoms}\\n\"\n",
    "      f\"Medical History: {medical_history}\\n\"\n",
    "      f\"Medical Report: {medical_report}\\n\"\n",
    "      f\"User Query: {user_query}\\n\\n\"\n",
    "      \"Based on the above, provide:\\n\"\n",
    "      \"1. Top 4 likely diseases with confidence scores (%) \\n\"\n",
    "      \"2. Recommended medicines and treatment\\n\"\n",
    "      \"3. Precautions\\n\"\n",
    "      \"4. Should the patient go to the hospital? (Yes/No with reason).\\n\"\n",
    "      \"5. Finally, explain all this in simple words for the patient to understand clearly.\")\n",
    "  return prompt\n",
    "\n"
   ]
  },
  {
   "cell_type": "code",
   "execution_count": null,
   "metadata": {
    "id": "iwg56L0Ph_t4"
   },
   "outputs": [],
   "source": [
    "# Lets use LLM 1 Now"
   ]
  },
  {
   "cell_type": "code",
   "execution_count": null,
   "metadata": {
    "id": "9io2wpWJiO3-"
   },
   "outputs": [],
   "source": [
    "def get_medical_response(prompt,max_tokens=520):\n",
    "  inputs = tokenizer(prompt,return_tensors=\"pt\").to(\"cuda\")\n",
    "\n",
    "\n",
    "\n",
    "  output = model.generate(\n",
    "      **inputs,\n",
    "      max_new_tokens = max_tokens,\n",
    "      do_sample = True,\n",
    "      top_p = 0.9,\n",
    "      temperature = 0.7,\n",
    "      repetition_penalty = 1.1,\n",
    "      eos_token_id = tokenizer.eos_token_id,\n",
    "      pad_token_id = tokenizer.pad_token_id)\n",
    "\n",
    "  result = tokenizer.decode(output[0],skip_special_tokens=False)\n",
    "\n",
    "  return result\n"
   ]
  },
  {
   "cell_type": "code",
   "execution_count": null,
   "metadata": {
    "id": "3rApA0jZymYy"
   },
   "outputs": [],
   "source": [
    "import os"
   ]
  },
  {
   "cell_type": "code",
   "execution_count": null,
   "metadata": {
    "id": "vNF-pNcau6di"
   },
   "outputs": [],
   "source": [
    "def save_patient_report(patient_name,llm_output):\n",
    "  folder = \"patient_reports\"\n",
    "  os.makedirs(folder, exist_ok=True)\n",
    "  from datetime import datetime\n",
    "  date= datetime.today().strftime(\"%Y-%m-%d\")\n",
    "  filename = f\"{patient_name}_{date}.txt\"\n",
    "  file_path = os.path.join(folder,filename)\n",
    "\n",
    "  with open(file_path,\"w\",encoding=\"utf-8\") as file:\n",
    "    file.write(f\"Patient Name:{patient_name}\\n\")\n",
    "    file.write(f\"Date: {date}\\n\\n\")\n",
    "    file.write(\"----- Patient Diagnosis Report -----\\n\\n\")\n",
    "    file.write(llm_output)\n",
    "  print(f\"Report saved as {filename}\")"
   ]
  },
  {
   "cell_type": "code",
   "execution_count": null,
   "metadata": {
    "id": "v7p-aelF6kMe"
   },
   "outputs": [],
   "source": [
    "def gradio_interface(name,weight,age,symptoms,history,report,query):\n",
    "  prompt = build_medical_prompt(name,weight,age,symptoms,history,report,query)\n",
    "  response = get_medical_response(prompt)\n",
    "  saved_file = save_patient_report(name,response)\n",
    "  return response + f\"\\n\\n\\n{saved_file}\""
   ]
  },
  {
   "cell_type": "code",
   "execution_count": null,
   "metadata": {
    "colab": {
     "base_uri": "https://localhost:8080/"
    },
    "id": "7L3airHY_dvJ",
    "outputId": "503e25d5-4d1c-4b56-a06e-03d9ee3fe512"
   },
   "outputs": [
    {
     "name": "stdout",
     "output_type": "stream",
     "text": [
      "Collecting gradio\n",
      "  Downloading gradio-5.31.0-py3-none-any.whl.metadata (16 kB)\n",
      "Collecting aiofiles<25.0,>=22.0 (from gradio)\n",
      "  Downloading aiofiles-24.1.0-py3-none-any.whl.metadata (10 kB)\n",
      "Requirement already satisfied: anyio<5.0,>=3.0 in /usr/local/lib/python3.11/dist-packages (from gradio) (4.9.0)\n",
      "Collecting fastapi<1.0,>=0.115.2 (from gradio)\n",
      "  Downloading fastapi-0.115.12-py3-none-any.whl.metadata (27 kB)\n",
      "Collecting ffmpy (from gradio)\n",
      "  Downloading ffmpy-0.5.0-py3-none-any.whl.metadata (3.0 kB)\n",
      "Collecting gradio-client==1.10.1 (from gradio)\n",
      "  Downloading gradio_client-1.10.1-py3-none-any.whl.metadata (7.1 kB)\n",
      "Collecting groovy~=0.1 (from gradio)\n",
      "  Downloading groovy-0.1.2-py3-none-any.whl.metadata (6.1 kB)\n",
      "Requirement already satisfied: httpx>=0.24.1 in /usr/local/lib/python3.11/dist-packages (from gradio) (0.28.1)\n",
      "Requirement already satisfied: huggingface-hub>=0.28.1 in /usr/local/lib/python3.11/dist-packages (from gradio) (0.31.2)\n",
      "Requirement already satisfied: jinja2<4.0 in /usr/local/lib/python3.11/dist-packages (from gradio) (3.1.6)\n",
      "Requirement already satisfied: markupsafe<4.0,>=2.0 in /usr/local/lib/python3.11/dist-packages (from gradio) (3.0.2)\n",
      "Requirement already satisfied: numpy<3.0,>=1.0 in /usr/local/lib/python3.11/dist-packages (from gradio) (2.0.2)\n",
      "Requirement already satisfied: orjson~=3.0 in /usr/local/lib/python3.11/dist-packages (from gradio) (3.10.18)\n",
      "Requirement already satisfied: packaging in /usr/local/lib/python3.11/dist-packages (from gradio) (24.2)\n",
      "Requirement already satisfied: pandas<3.0,>=1.0 in /usr/local/lib/python3.11/dist-packages (from gradio) (2.2.2)\n",
      "Requirement already satisfied: pillow<12.0,>=8.0 in /usr/local/lib/python3.11/dist-packages (from gradio) (11.2.1)\n",
      "Requirement already satisfied: pydantic<2.12,>=2.0 in /usr/local/lib/python3.11/dist-packages (from gradio) (2.11.4)\n",
      "Collecting pydub (from gradio)\n",
      "  Downloading pydub-0.25.1-py2.py3-none-any.whl.metadata (1.4 kB)\n",
      "Collecting python-multipart>=0.0.18 (from gradio)\n",
      "  Downloading python_multipart-0.0.20-py3-none-any.whl.metadata (1.8 kB)\n",
      "Requirement already satisfied: pyyaml<7.0,>=5.0 in /usr/local/lib/python3.11/dist-packages (from gradio) (6.0.2)\n",
      "Collecting ruff>=0.9.3 (from gradio)\n",
      "  Downloading ruff-0.11.11-py3-none-manylinux_2_17_x86_64.manylinux2014_x86_64.whl.metadata (25 kB)\n",
      "Collecting safehttpx<0.2.0,>=0.1.6 (from gradio)\n",
      "  Downloading safehttpx-0.1.6-py3-none-any.whl.metadata (4.2 kB)\n",
      "Collecting semantic-version~=2.0 (from gradio)\n",
      "  Downloading semantic_version-2.10.0-py2.py3-none-any.whl.metadata (9.7 kB)\n",
      "Collecting starlette<1.0,>=0.40.0 (from gradio)\n",
      "  Downloading starlette-0.46.2-py3-none-any.whl.metadata (6.2 kB)\n",
      "Collecting tomlkit<0.14.0,>=0.12.0 (from gradio)\n",
      "  Downloading tomlkit-0.13.2-py3-none-any.whl.metadata (2.7 kB)\n",
      "Requirement already satisfied: typer<1.0,>=0.12 in /usr/local/lib/python3.11/dist-packages (from gradio) (0.15.3)\n",
      "Requirement already satisfied: typing-extensions~=4.0 in /usr/local/lib/python3.11/dist-packages (from gradio) (4.13.2)\n",
      "Collecting uvicorn>=0.14.0 (from gradio)\n",
      "  Downloading uvicorn-0.34.2-py3-none-any.whl.metadata (6.5 kB)\n",
      "Requirement already satisfied: fsspec in /usr/local/lib/python3.11/dist-packages (from gradio-client==1.10.1->gradio) (2025.3.2)\n",
      "Requirement already satisfied: websockets<16.0,>=10.0 in /usr/local/lib/python3.11/dist-packages (from gradio-client==1.10.1->gradio) (15.0.1)\n",
      "Requirement already satisfied: idna>=2.8 in /usr/local/lib/python3.11/dist-packages (from anyio<5.0,>=3.0->gradio) (3.10)\n",
      "Requirement already satisfied: sniffio>=1.1 in /usr/local/lib/python3.11/dist-packages (from anyio<5.0,>=3.0->gradio) (1.3.1)\n",
      "Requirement already satisfied: certifi in /usr/local/lib/python3.11/dist-packages (from httpx>=0.24.1->gradio) (2025.4.26)\n",
      "Requirement already satisfied: httpcore==1.* in /usr/local/lib/python3.11/dist-packages (from httpx>=0.24.1->gradio) (1.0.9)\n",
      "Requirement already satisfied: h11>=0.16 in /usr/local/lib/python3.11/dist-packages (from httpcore==1.*->httpx>=0.24.1->gradio) (0.16.0)\n",
      "Requirement already satisfied: filelock in /usr/local/lib/python3.11/dist-packages (from huggingface-hub>=0.28.1->gradio) (3.18.0)\n",
      "Requirement already satisfied: requests in /usr/local/lib/python3.11/dist-packages (from huggingface-hub>=0.28.1->gradio) (2.32.3)\n",
      "Requirement already satisfied: tqdm>=4.42.1 in /usr/local/lib/python3.11/dist-packages (from huggingface-hub>=0.28.1->gradio) (4.67.1)\n",
      "Requirement already satisfied: python-dateutil>=2.8.2 in /usr/local/lib/python3.11/dist-packages (from pandas<3.0,>=1.0->gradio) (2.9.0.post0)\n",
      "Requirement already satisfied: pytz>=2020.1 in /usr/local/lib/python3.11/dist-packages (from pandas<3.0,>=1.0->gradio) (2025.2)\n",
      "Requirement already satisfied: tzdata>=2022.7 in /usr/local/lib/python3.11/dist-packages (from pandas<3.0,>=1.0->gradio) (2025.2)\n",
      "Requirement already satisfied: annotated-types>=0.6.0 in /usr/local/lib/python3.11/dist-packages (from pydantic<2.12,>=2.0->gradio) (0.7.0)\n",
      "Requirement already satisfied: pydantic-core==2.33.2 in /usr/local/lib/python3.11/dist-packages (from pydantic<2.12,>=2.0->gradio) (2.33.2)\n",
      "Requirement already satisfied: typing-inspection>=0.4.0 in /usr/local/lib/python3.11/dist-packages (from pydantic<2.12,>=2.0->gradio) (0.4.0)\n",
      "Requirement already satisfied: click>=8.0.0 in /usr/local/lib/python3.11/dist-packages (from typer<1.0,>=0.12->gradio) (8.2.0)\n",
      "Requirement already satisfied: shellingham>=1.3.0 in /usr/local/lib/python3.11/dist-packages (from typer<1.0,>=0.12->gradio) (1.5.4)\n",
      "Requirement already satisfied: rich>=10.11.0 in /usr/local/lib/python3.11/dist-packages (from typer<1.0,>=0.12->gradio) (13.9.4)\n",
      "Requirement already satisfied: six>=1.5 in /usr/local/lib/python3.11/dist-packages (from python-dateutil>=2.8.2->pandas<3.0,>=1.0->gradio) (1.17.0)\n",
      "Requirement already satisfied: markdown-it-py>=2.2.0 in /usr/local/lib/python3.11/dist-packages (from rich>=10.11.0->typer<1.0,>=0.12->gradio) (3.0.0)\n",
      "Requirement already satisfied: pygments<3.0.0,>=2.13.0 in /usr/local/lib/python3.11/dist-packages (from rich>=10.11.0->typer<1.0,>=0.12->gradio) (2.19.1)\n",
      "Requirement already satisfied: charset-normalizer<4,>=2 in /usr/local/lib/python3.11/dist-packages (from requests->huggingface-hub>=0.28.1->gradio) (3.4.2)\n",
      "Requirement already satisfied: urllib3<3,>=1.21.1 in /usr/local/lib/python3.11/dist-packages (from requests->huggingface-hub>=0.28.1->gradio) (2.4.0)\n",
      "Requirement already satisfied: mdurl~=0.1 in /usr/local/lib/python3.11/dist-packages (from markdown-it-py>=2.2.0->rich>=10.11.0->typer<1.0,>=0.12->gradio) (0.1.2)\n",
      "Downloading gradio-5.31.0-py3-none-any.whl (54.2 MB)\n",
      "\u001b[2K   \u001b[90m━━━━━━━━━━━━━━━━━━━━━━━━━━━━━━━━━━━━━━━━\u001b[0m \u001b[32m54.2/54.2 MB\u001b[0m \u001b[31m20.7 MB/s\u001b[0m eta \u001b[36m0:00:00\u001b[0m\n",
      "\u001b[?25hDownloading gradio_client-1.10.1-py3-none-any.whl (323 kB)\n",
      "\u001b[2K   \u001b[90m━━━━━━━━━━━━━━━━━━━━━━━━━━━━━━━━━━━━━━━━\u001b[0m \u001b[32m323.1/323.1 kB\u001b[0m \u001b[31m27.1 MB/s\u001b[0m eta \u001b[36m0:00:00\u001b[0m\n",
      "\u001b[?25hDownloading aiofiles-24.1.0-py3-none-any.whl (15 kB)\n",
      "Downloading fastapi-0.115.12-py3-none-any.whl (95 kB)\n",
      "\u001b[2K   \u001b[90m━━━━━━━━━━━━━━━━━━━━━━━━━━━━━━━━━━━━━━━━\u001b[0m \u001b[32m95.2/95.2 kB\u001b[0m \u001b[31m9.2 MB/s\u001b[0m eta \u001b[36m0:00:00\u001b[0m\n",
      "\u001b[?25hDownloading groovy-0.1.2-py3-none-any.whl (14 kB)\n",
      "Downloading python_multipart-0.0.20-py3-none-any.whl (24 kB)\n",
      "Downloading ruff-0.11.11-py3-none-manylinux_2_17_x86_64.manylinux2014_x86_64.whl (11.5 MB)\n",
      "\u001b[2K   \u001b[90m━━━━━━━━━━━━━━━━━━━━━━━━━━━━━━━━━━━━━━━━\u001b[0m \u001b[32m11.5/11.5 MB\u001b[0m \u001b[31m100.5 MB/s\u001b[0m eta \u001b[36m0:00:00\u001b[0m\n",
      "\u001b[?25hDownloading safehttpx-0.1.6-py3-none-any.whl (8.7 kB)\n",
      "Downloading semantic_version-2.10.0-py2.py3-none-any.whl (15 kB)\n",
      "Downloading starlette-0.46.2-py3-none-any.whl (72 kB)\n",
      "\u001b[2K   \u001b[90m━━━━━━━━━━━━━━━━━━━━━━━━━━━━━━━━━━━━━━━━\u001b[0m \u001b[32m72.0/72.0 kB\u001b[0m \u001b[31m8.4 MB/s\u001b[0m eta \u001b[36m0:00:00\u001b[0m\n",
      "\u001b[?25hDownloading tomlkit-0.13.2-py3-none-any.whl (37 kB)\n",
      "Downloading uvicorn-0.34.2-py3-none-any.whl (62 kB)\n",
      "\u001b[2K   \u001b[90m━━━━━━━━━━━━━━━━━━━━━━━━━━━━━━━━━━━━━━━━\u001b[0m \u001b[32m62.5/62.5 kB\u001b[0m \u001b[31m6.5 MB/s\u001b[0m eta \u001b[36m0:00:00\u001b[0m\n",
      "\u001b[?25hDownloading ffmpy-0.5.0-py3-none-any.whl (6.0 kB)\n",
      "Downloading pydub-0.25.1-py2.py3-none-any.whl (32 kB)\n",
      "Installing collected packages: pydub, uvicorn, tomlkit, semantic-version, ruff, python-multipart, groovy, ffmpy, aiofiles, starlette, safehttpx, gradio-client, fastapi, gradio\n",
      "Successfully installed aiofiles-24.1.0 fastapi-0.115.12 ffmpy-0.5.0 gradio-5.31.0 gradio-client-1.10.1 groovy-0.1.2 pydub-0.25.1 python-multipart-0.0.20 ruff-0.11.11 safehttpx-0.1.6 semantic-version-2.10.0 starlette-0.46.2 tomlkit-0.13.2 uvicorn-0.34.2\n"
     ]
    }
   ],
   "source": [
    "pip install gradio"
   ]
  },
  {
   "cell_type": "code",
   "execution_count": null,
   "metadata": {
    "id": "5grOAG1U_Wt1"
   },
   "outputs": [],
   "source": [
    "import gradio as gr"
   ]
  },
  {
   "cell_type": "code",
   "execution_count": null,
   "metadata": {
    "colab": {
     "base_uri": "https://localhost:8080/",
     "height": 645
    },
    "id": "GZU1RXG47hXZ",
    "outputId": "c1c047c7-f73e-4103-cf98-f4772a304beb"
   },
   "outputs": [
    {
     "name": "stdout",
     "output_type": "stream",
     "text": [
      "It looks like you are running Gradio on a hosted a Jupyter notebook. For the Gradio app to work, sharing must be enabled. Automatically setting `share=True` (you can turn this off by setting `share=False` in `launch()` explicitly).\n",
      "\n",
      "Colab notebook detected. To show errors in colab notebook, set debug=True in launch()\n",
      "* Running on public URL: https://d3210692483cb7e9f6.gradio.live\n",
      "\n",
      "This share link expires in 1 week. For free permanent hosting and GPU upgrades, run `gradio deploy` from the terminal in the working directory to deploy to Hugging Face Spaces (https://huggingface.co/spaces)\n"
     ]
    },
    {
     "data": {
      "text/html": [
       "<div><iframe src=\"https://d3210692483cb7e9f6.gradio.live\" width=\"100%\" height=\"500\" allow=\"autoplay; camera; microphone; clipboard-read; clipboard-write;\" frameborder=\"0\" allowfullscreen></iframe></div>"
      ],
      "text/plain": [
       "<IPython.core.display.HTML object>"
      ]
     },
     "metadata": {},
     "output_type": "display_data"
    },
    {
     "data": {
      "text/plain": []
     },
     "execution_count": 17,
     "metadata": {},
     "output_type": "execute_result"
    }
   ],
   "source": [
    "gr.Interface(\n",
    "    fn=gradio_interface,\n",
    "    inputs=[\n",
    "        gr.Textbox(label=\"Patient Name\"),\n",
    "        gr.Textbox(label=\"Weight (kg)\"),\n",
    "        gr.Textbox(label=\"Age\"),\n",
    "        gr.Textbox(label=\"Symptoms\"),\n",
    "        gr.Textbox(label=\"Medical History\"),\n",
    "        gr.Textbox(label=\"Medical Report Values\"),\n",
    "        gr.Textbox(label=\"User query\")],\n",
    "    outputs = gr.Textbox(label=\"Diagnosis Result\"),\n",
    "    title = \"GenAI Medical Assistant\",\n",
    "    description = \"Enter patient details to get disease predictions, Treatments and advices.\"\n",
    "    ).launch()"
   ]
  },
  {
   "cell_type": "code",
   "execution_count": null,
   "metadata": {
    "colab": {
     "base_uri": "https://localhost:8080/"
    },
    "id": "Ez2uE-0YkEnx",
    "outputId": "e4f48ac6-6816-463f-e295-14e9ee7ac24d"
   },
   "outputs": [
    {
     "name": "stdout",
     "output_type": "stream",
     "text": [
      "Enter the Patient Details:\n",
      "\n",
      "enter patient name  : pooja\n",
      "Enter patient weight in kg : 50\n",
      "Enter patient Age : 25\n",
      "1. Enter Symptoms with comma seperation : fever,stomach pain,headache,vomit\n",
      "2. medical history (e.g.,smoker,drinker,have diabetes, etc.,) : no\n",
      "3. Medical report data (e.g., CRP=10, troponin=0.2, Hb=xyz, etc.,) : hb=1000\n",
      "4. What help you need? (e.g., what disease is it can be? should i visit hospital? etc.,) : what is the disease?\n",
      "Report saved as pooja_2025-05-25.txt\n",
      "\n",
      "----  Here we go... Patient Diagnosis REPORT   ----\n",
      "\n",
      "<s> Patient name:pooja\n",
      "Patient Weight: 50\n",
      "patient Age: 25\n",
      "Patient Symptoms: fever,stomach pain,headache,vomit\n",
      "Medical History: no\n",
      "Medical Report: hb=1000\n",
      "User Query: what is the disease?\n",
      "\n",
      "Based on the above, provide:\n",
      "1. Top 4 likely diseases with confidence scores (%) \n",
      "2. Recommended medicines and treatment\n",
      "3. Precautions\n",
      "4. Should the patient go to the hospital? (Yes/No with reason).\n",
      "5. Finally, explain all this in simple words for the patient to understand clearly. \n",
      "\n",
      "Answer:\n",
      "Disease possibilities are listed from highest likelihood to lowest.\n",
      "Top 4 most likely causes of the patient's symptoms are:\n",
      "\n",
      "1. Food poisoning - 80%\n",
      "2. Gastritis - 65%\n",
      "3. Gastroenteritis - 55%\n",
      "4. Influenza - 30%\n",
      "\n",
      "Recommendations:\n",
      "Medicine: anti-inflammatory drugs for stomach pain and fever reduction\n",
      "Treatment: oral rehydration salts for vomiting\n",
      "Precaution: rest at home and avoid heavy meals\n",
      "The patient does not need to visit the hospital unless the condition worsens or there are severe complications. The patient should take over-the-counter medication as recommended by a medical professional. A follow-up appointment will be needed if the patient’s condition improves but still has some symptoms after 2 days of treatment.\n",
      "Explanation:\n",
      "Food poisoning occurs when bacteria multiply in food and cause an infection. This can happen when someone consumes contaminated food or water. Stomach pain, vomiting, headache, and fever are common symptoms of food poisoning. Gastritis is an inflammation of the stomach lining that can occur due to various factors such as excessive alcohol consumption, smoking, or stress. Gastroenteritis is an inflammation of the digestive system that can occur due to a viral or bacterial infection. It commonly results in diarrhea, vomiting, nausea, and stomach cramps. Influenza is a respiratory illness caused by a virus that affects the nose, throat, and lungs. Fever, chills, cough, sore throat, runny nose, and muscle aches are typical symptoms of influenza. Over-the-counter medication may help alleviate these symptoms until they improve. If you are unsure which medication to use or have any other questions, it is best to consult a doctor or pharmacist.</s>\n"
     ]
    }
   ],
   "source": [
    "# def main():\n",
    "\n",
    "#   patient_name,patient_weight,patient_age, symptoms, medical_history, medical_report, user_query = get_user_inputs()\n",
    "\n",
    "#   prompt = build_medical_prompt(patient_name,patient_weight,patient_age,symptoms,medical_history,medical_report,user_query)\n",
    "#   llm_output = get_medical_response(prompt)\n",
    "#   save_patient_report(patient_name,llm_output)\n",
    "#   print(\"\\n----  Here we go... Patient Diagnosis REPORT   ----\\n\")\n",
    "#   print(llm_output)\n",
    "\n",
    "\n",
    "\n",
    "\n",
    "# if __name__==\"__main__\":\n",
    "#   main()\n"
   ]
  },
  {
   "cell_type": "code",
   "execution_count": null,
   "metadata": {
    "id": "zGZbBj3ovoHd"
   },
   "outputs": [],
   "source": []
  }
 ],
 "metadata": {
  "accelerator": "GPU",
  "colab": {
   "gpuType": "T4",
   "provenance": []
  },
  "kernelspec": {
   "display_name": "Python 3",
   "name": "python3"
  },
  "language_info": {
   "name": "python"
  }
 },
 "nbformat": 4,
 "nbformat_minor": 0
}
